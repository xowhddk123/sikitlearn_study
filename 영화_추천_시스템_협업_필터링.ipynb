{
  "cells": [
    {
      "cell_type": "markdown",
      "metadata": {
        "id": "view-in-github",
        "colab_type": "text"
      },
      "source": [
        "<a href=\"https://colab.research.google.com/github/xowhddk123/sikitlearn_study/blob/main/%EC%98%81%ED%99%94_%EC%B6%94%EC%B2%9C_%EC%8B%9C%EC%8A%A4%ED%85%9C_%ED%98%91%EC%97%85_%ED%95%84%ED%84%B0%EB%A7%81.ipynb\" target=\"_parent\"><img src=\"https://colab.research.google.com/assets/colab-badge.svg\" alt=\"Open In Colab\"/></a>"
      ]
    },
    {
      "cell_type": "markdown",
      "id": "d705a80c",
      "metadata": {
        "id": "d705a80c"
      },
      "source": [
        "## 3. Collaborative Filterin (협업 필터링 : 사용자 리뷰 기반)"
      ]
    },
    {
      "cell_type": "markdown",
      "id": "2d88d7f7",
      "metadata": {
        "id": "2d88d7f7"
      },
      "source": [
        "- reference : https://www.kaggle.com/datasets/rounakbanik/the-movies-dataset?resource=download&select=ratings_small.csv"
      ]
    },
    {
      "cell_type": "code",
      "execution_count": null,
      "id": "9b1a4614",
      "metadata": {
        "ExecuteTime": {
          "end_time": "2022-08-18T06:05:09.675282Z",
          "start_time": "2022-08-18T06:05:09.453588Z"
        },
        "id": "9b1a4614",
        "outputId": "dd198400-34bd-45fe-b2ae-7ae5ad2236f0"
      },
      "outputs": [
        {
          "data": {
            "text/plain": [
              "'1.1.1'"
            ]
          },
          "execution_count": 5,
          "metadata": {},
          "output_type": "execute_result"
        }
      ],
      "source": [
        "import surprise\n",
        "surprise.__version__"
      ]
    },
    {
      "cell_type": "code",
      "execution_count": null,
      "id": "815dbadd",
      "metadata": {
        "ExecuteTime": {
          "end_time": "2022-08-18T06:22:52.070044Z",
          "start_time": "2022-08-18T06:22:51.556115Z"
        },
        "id": "815dbadd"
      },
      "outputs": [],
      "source": [
        "import pandas as pd\n",
        "from surprise  import Reader, Dataset, SVD\n",
        "from surprise.model_selection import cross_validate"
      ]
    },
    {
      "cell_type": "code",
      "execution_count": null,
      "id": "314256b6",
      "metadata": {
        "ExecuteTime": {
          "end_time": "2022-08-18T06:22:52.116599Z",
          "start_time": "2022-08-18T06:22:52.070964Z"
        },
        "id": "314256b6",
        "outputId": "095728da-f6eb-4b00-86b5-a0e9308df947"
      },
      "outputs": [
        {
          "data": {
            "text/html": [
              "<div>\n",
              "<style scoped>\n",
              "    .dataframe tbody tr th:only-of-type {\n",
              "        vertical-align: middle;\n",
              "    }\n",
              "\n",
              "    .dataframe tbody tr th {\n",
              "        vertical-align: top;\n",
              "    }\n",
              "\n",
              "    .dataframe thead th {\n",
              "        text-align: right;\n",
              "    }\n",
              "</style>\n",
              "<table border=\"1\" class=\"dataframe\">\n",
              "  <thead>\n",
              "    <tr style=\"text-align: right;\">\n",
              "      <th></th>\n",
              "      <th>userId</th>\n",
              "      <th>movieId</th>\n",
              "      <th>rating</th>\n",
              "      <th>timestamp</th>\n",
              "    </tr>\n",
              "  </thead>\n",
              "  <tbody>\n",
              "    <tr>\n",
              "      <th>0</th>\n",
              "      <td>1</td>\n",
              "      <td>31</td>\n",
              "      <td>2.5</td>\n",
              "      <td>1260759144</td>\n",
              "    </tr>\n",
              "    <tr>\n",
              "      <th>1</th>\n",
              "      <td>1</td>\n",
              "      <td>1029</td>\n",
              "      <td>3.0</td>\n",
              "      <td>1260759179</td>\n",
              "    </tr>\n",
              "    <tr>\n",
              "      <th>2</th>\n",
              "      <td>1</td>\n",
              "      <td>1061</td>\n",
              "      <td>3.0</td>\n",
              "      <td>1260759182</td>\n",
              "    </tr>\n",
              "    <tr>\n",
              "      <th>3</th>\n",
              "      <td>1</td>\n",
              "      <td>1129</td>\n",
              "      <td>2.0</td>\n",
              "      <td>1260759185</td>\n",
              "    </tr>\n",
              "    <tr>\n",
              "      <th>4</th>\n",
              "      <td>1</td>\n",
              "      <td>1172</td>\n",
              "      <td>4.0</td>\n",
              "      <td>1260759205</td>\n",
              "    </tr>\n",
              "  </tbody>\n",
              "</table>\n",
              "</div>"
            ],
            "text/plain": [
              "   userId  movieId  rating   timestamp\n",
              "0       1       31     2.5  1260759144\n",
              "1       1     1029     3.0  1260759179\n",
              "2       1     1061     3.0  1260759182\n",
              "3       1     1129     2.0  1260759185\n",
              "4       1     1172     4.0  1260759205"
            ]
          },
          "execution_count": 8,
          "metadata": {},
          "output_type": "execute_result"
        }
      ],
      "source": [
        "ratings = pd.read_csv(\"ratings_small.csv\")\n",
        "ratings.head()"
      ]
    },
    {
      "cell_type": "code",
      "execution_count": null,
      "id": "c435daed",
      "metadata": {
        "ExecuteTime": {
          "end_time": "2022-08-18T06:24:32.844020Z",
          "start_time": "2022-08-18T06:24:32.839020Z"
        },
        "id": "c435daed",
        "outputId": "23d59840-a333-4e9b-af10-6f249bf28c8a"
      },
      "outputs": [
        {
          "data": {
            "text/plain": [
              "0.5"
            ]
          },
          "execution_count": 9,
          "metadata": {},
          "output_type": "execute_result"
        }
      ],
      "source": [
        "ratings[\"rating\"].min()"
      ]
    },
    {
      "cell_type": "code",
      "execution_count": null,
      "id": "00cae569",
      "metadata": {
        "ExecuteTime": {
          "end_time": "2022-08-18T06:24:41.999388Z",
          "start_time": "2022-08-18T06:24:41.995388Z"
        },
        "id": "00cae569",
        "outputId": "f8caa0be-7fd0-433c-85b3-a9caec8f1941"
      },
      "outputs": [
        {
          "data": {
            "text/plain": [
              "5.0"
            ]
          },
          "execution_count": 10,
          "metadata": {},
          "output_type": "execute_result"
        }
      ],
      "source": [
        "ratings[\"rating\"].max()"
      ]
    },
    {
      "cell_type": "code",
      "execution_count": null,
      "id": "3cb7eab6",
      "metadata": {
        "ExecuteTime": {
          "end_time": "2022-08-18T06:26:06.535926Z",
          "start_time": "2022-08-18T06:26:06.529993Z"
        },
        "id": "3cb7eab6"
      },
      "outputs": [],
      "source": [
        "reader = Reader(rating_scale = (0.5, 5))  # 최소값과 최대값 넣기"
      ]
    },
    {
      "cell_type": "code",
      "execution_count": null,
      "id": "ec797d2e",
      "metadata": {
        "ExecuteTime": {
          "end_time": "2022-08-18T06:27:15.899652Z",
          "start_time": "2022-08-18T06:27:15.845824Z"
        },
        "id": "ec797d2e",
        "outputId": "4b5fce4c-2e07-4c45-ea9e-cbfc5fae1749"
      },
      "outputs": [
        {
          "data": {
            "text/plain": [
              "<surprise.dataset.DatasetAutoFolds at 0x1d90fbd4fd0>"
            ]
          },
          "execution_count": 14,
          "metadata": {},
          "output_type": "execute_result"
        }
      ],
      "source": [
        "# surprise data set 만들기\n",
        "data = Dataset.load_from_df(ratings[[\"userId\", \"movieId\", \"rating\"]], reader = reader) \n",
        "data"
      ]
    },
    {
      "cell_type": "code",
      "execution_count": null,
      "id": "7fc536a4",
      "metadata": {
        "ExecuteTime": {
          "end_time": "2022-08-18T06:28:12.126582Z",
          "start_time": "2022-08-18T06:28:12.109493Z"
        },
        "id": "7fc536a4"
      },
      "outputs": [],
      "source": [
        "svd = SVD(random_state = 0)  # 모델 만들기"
      ]
    },
    {
      "cell_type": "code",
      "execution_count": null,
      "id": "522af2c7",
      "metadata": {
        "ExecuteTime": {
          "end_time": "2022-08-18T06:29:19.988307Z",
          "start_time": "2022-08-18T06:29:06.870711Z"
        },
        "id": "522af2c7",
        "outputId": "523115dd-8910-4223-aa62-48efde297e16"
      },
      "outputs": [
        {
          "name": "stdout",
          "output_type": "stream",
          "text": [
            "Evaluating RMSE, MAE of algorithm SVD on 5 split(s).\n",
            "\n",
            "                  Fold 1  Fold 2  Fold 3  Fold 4  Fold 5  Mean    Std     \n",
            "RMSE (testset)    0.8973  0.8892  0.9083  0.8910  0.8938  0.8959  0.0067  \n",
            "MAE (testset)     0.6913  0.6844  0.6987  0.6882  0.6874  0.6900  0.0049  \n",
            "Fit time          2.43    2.52    2.47    2.44    2.46    2.47    0.03    \n",
            "Test time         0.07    0.10    0.06    0.10    0.06    0.08    0.02    \n"
          ]
        },
        {
          "data": {
            "text/plain": [
              "{'test_rmse': array([0.89730309, 0.88922283, 0.90825103, 0.89095052, 0.89384785]),\n",
              " 'test_mae': array([0.69132915, 0.68442815, 0.69869655, 0.68818849, 0.68740095]),\n",
              " 'fit_time': (2.4337821006774902,\n",
              "  2.519894599914551,\n",
              "  2.474088430404663,\n",
              "  2.442976951599121,\n",
              "  2.456073045730591),\n",
              " 'test_time': (0.06720280647277832,\n",
              "  0.09816431999206543,\n",
              "  0.05861401557922363,\n",
              "  0.09978270530700684,\n",
              "  0.05909991264343262)}"
            ]
          },
          "execution_count": 18,
          "metadata": {},
          "output_type": "execute_result"
        }
      ],
      "source": [
        "# 모델 성능 교차 검증 해주는 함수\n",
        "cross_validate(svd, data, measures = [\"RMSE\", \"MAE\"], cv = 5, verbose = True) # cv는 나눌 세트 수"
      ]
    },
    {
      "cell_type": "markdown",
      "id": "8e5cce5b",
      "metadata": {
        "id": "8e5cce5b"
      },
      "source": [
        "교차 검증 (K-Fold 교차 검증)\n",
        "\n",
        "100 개 데이터\n",
        "\n",
        "A:1-20\n",
        "B:21-40\n",
        "C:41-60\n",
        "D:61-80\n",
        "E:81-100\n",
        "\n",
        "ABCD (train set) E (test set)\n",
        "ABCE (train set) D (test set)\n",
        "ABDE (train set) C (test set)\n",
        "ACDE (train set) B (test set)\n",
        "BCDE (train set) A (test set)"
      ]
    },
    {
      "cell_type": "code",
      "execution_count": null,
      "id": "d845bbb5",
      "metadata": {
        "ExecuteTime": {
          "end_time": "2022-08-18T06:40:07.865414Z",
          "start_time": "2022-08-18T06:40:05.028473Z"
        },
        "id": "d845bbb5",
        "outputId": "cc1605ac-a4cc-4ad9-cd36-6f09c3c28c84"
      },
      "outputs": [
        {
          "data": {
            "text/plain": [
              "<surprise.prediction_algorithms.matrix_factorization.SVD at 0x1d90fb93be0>"
            ]
          },
          "execution_count": 19,
          "metadata": {},
          "output_type": "execute_result"
        }
      ],
      "source": [
        "trainset = data.build_full_trainset()\n",
        "svd.fit(trainset)"
      ]
    },
    {
      "cell_type": "code",
      "execution_count": null,
      "id": "664aad57",
      "metadata": {
        "ExecuteTime": {
          "end_time": "2022-08-18T06:40:35.779962Z",
          "start_time": "2022-08-18T06:40:35.758406Z"
        },
        "id": "664aad57",
        "outputId": "ab55d6d1-c14f-43dd-db91-faef997a53b6"
      },
      "outputs": [
        {
          "data": {
            "text/html": [
              "<div>\n",
              "<style scoped>\n",
              "    .dataframe tbody tr th:only-of-type {\n",
              "        vertical-align: middle;\n",
              "    }\n",
              "\n",
              "    .dataframe tbody tr th {\n",
              "        vertical-align: top;\n",
              "    }\n",
              "\n",
              "    .dataframe thead th {\n",
              "        text-align: right;\n",
              "    }\n",
              "</style>\n",
              "<table border=\"1\" class=\"dataframe\">\n",
              "  <thead>\n",
              "    <tr style=\"text-align: right;\">\n",
              "      <th></th>\n",
              "      <th>userId</th>\n",
              "      <th>movieId</th>\n",
              "      <th>rating</th>\n",
              "      <th>timestamp</th>\n",
              "    </tr>\n",
              "  </thead>\n",
              "  <tbody>\n",
              "    <tr>\n",
              "      <th>0</th>\n",
              "      <td>1</td>\n",
              "      <td>31</td>\n",
              "      <td>2.5</td>\n",
              "      <td>1260759144</td>\n",
              "    </tr>\n",
              "    <tr>\n",
              "      <th>1</th>\n",
              "      <td>1</td>\n",
              "      <td>1029</td>\n",
              "      <td>3.0</td>\n",
              "      <td>1260759179</td>\n",
              "    </tr>\n",
              "    <tr>\n",
              "      <th>2</th>\n",
              "      <td>1</td>\n",
              "      <td>1061</td>\n",
              "      <td>3.0</td>\n",
              "      <td>1260759182</td>\n",
              "    </tr>\n",
              "    <tr>\n",
              "      <th>3</th>\n",
              "      <td>1</td>\n",
              "      <td>1129</td>\n",
              "      <td>2.0</td>\n",
              "      <td>1260759185</td>\n",
              "    </tr>\n",
              "    <tr>\n",
              "      <th>4</th>\n",
              "      <td>1</td>\n",
              "      <td>1172</td>\n",
              "      <td>4.0</td>\n",
              "      <td>1260759205</td>\n",
              "    </tr>\n",
              "    <tr>\n",
              "      <th>5</th>\n",
              "      <td>1</td>\n",
              "      <td>1263</td>\n",
              "      <td>2.0</td>\n",
              "      <td>1260759151</td>\n",
              "    </tr>\n",
              "    <tr>\n",
              "      <th>6</th>\n",
              "      <td>1</td>\n",
              "      <td>1287</td>\n",
              "      <td>2.0</td>\n",
              "      <td>1260759187</td>\n",
              "    </tr>\n",
              "    <tr>\n",
              "      <th>7</th>\n",
              "      <td>1</td>\n",
              "      <td>1293</td>\n",
              "      <td>2.0</td>\n",
              "      <td>1260759148</td>\n",
              "    </tr>\n",
              "    <tr>\n",
              "      <th>8</th>\n",
              "      <td>1</td>\n",
              "      <td>1339</td>\n",
              "      <td>3.5</td>\n",
              "      <td>1260759125</td>\n",
              "    </tr>\n",
              "    <tr>\n",
              "      <th>9</th>\n",
              "      <td>1</td>\n",
              "      <td>1343</td>\n",
              "      <td>2.0</td>\n",
              "      <td>1260759131</td>\n",
              "    </tr>\n",
              "    <tr>\n",
              "      <th>10</th>\n",
              "      <td>1</td>\n",
              "      <td>1371</td>\n",
              "      <td>2.5</td>\n",
              "      <td>1260759135</td>\n",
              "    </tr>\n",
              "    <tr>\n",
              "      <th>11</th>\n",
              "      <td>1</td>\n",
              "      <td>1405</td>\n",
              "      <td>1.0</td>\n",
              "      <td>1260759203</td>\n",
              "    </tr>\n",
              "    <tr>\n",
              "      <th>12</th>\n",
              "      <td>1</td>\n",
              "      <td>1953</td>\n",
              "      <td>4.0</td>\n",
              "      <td>1260759191</td>\n",
              "    </tr>\n",
              "    <tr>\n",
              "      <th>13</th>\n",
              "      <td>1</td>\n",
              "      <td>2105</td>\n",
              "      <td>4.0</td>\n",
              "      <td>1260759139</td>\n",
              "    </tr>\n",
              "    <tr>\n",
              "      <th>14</th>\n",
              "      <td>1</td>\n",
              "      <td>2150</td>\n",
              "      <td>3.0</td>\n",
              "      <td>1260759194</td>\n",
              "    </tr>\n",
              "    <tr>\n",
              "      <th>15</th>\n",
              "      <td>1</td>\n",
              "      <td>2193</td>\n",
              "      <td>2.0</td>\n",
              "      <td>1260759198</td>\n",
              "    </tr>\n",
              "    <tr>\n",
              "      <th>16</th>\n",
              "      <td>1</td>\n",
              "      <td>2294</td>\n",
              "      <td>2.0</td>\n",
              "      <td>1260759108</td>\n",
              "    </tr>\n",
              "    <tr>\n",
              "      <th>17</th>\n",
              "      <td>1</td>\n",
              "      <td>2455</td>\n",
              "      <td>2.5</td>\n",
              "      <td>1260759113</td>\n",
              "    </tr>\n",
              "    <tr>\n",
              "      <th>18</th>\n",
              "      <td>1</td>\n",
              "      <td>2968</td>\n",
              "      <td>1.0</td>\n",
              "      <td>1260759200</td>\n",
              "    </tr>\n",
              "    <tr>\n",
              "      <th>19</th>\n",
              "      <td>1</td>\n",
              "      <td>3671</td>\n",
              "      <td>3.0</td>\n",
              "      <td>1260759117</td>\n",
              "    </tr>\n",
              "  </tbody>\n",
              "</table>\n",
              "</div>"
            ],
            "text/plain": [
              "    userId  movieId  rating   timestamp\n",
              "0        1       31     2.5  1260759144\n",
              "1        1     1029     3.0  1260759179\n",
              "2        1     1061     3.0  1260759182\n",
              "3        1     1129     2.0  1260759185\n",
              "4        1     1172     4.0  1260759205\n",
              "5        1     1263     2.0  1260759151\n",
              "6        1     1287     2.0  1260759187\n",
              "7        1     1293     2.0  1260759148\n",
              "8        1     1339     3.5  1260759125\n",
              "9        1     1343     2.0  1260759131\n",
              "10       1     1371     2.5  1260759135\n",
              "11       1     1405     1.0  1260759203\n",
              "12       1     1953     4.0  1260759191\n",
              "13       1     2105     4.0  1260759139\n",
              "14       1     2150     3.0  1260759194\n",
              "15       1     2193     2.0  1260759198\n",
              "16       1     2294     2.0  1260759108\n",
              "17       1     2455     2.5  1260759113\n",
              "18       1     2968     1.0  1260759200\n",
              "19       1     3671     3.0  1260759117"
            ]
          },
          "execution_count": 20,
          "metadata": {},
          "output_type": "execute_result"
        }
      ],
      "source": [
        "ratings[ratings[\"userId\"] == 1]"
      ]
    },
    {
      "cell_type": "code",
      "execution_count": null,
      "id": "7979cb5d",
      "metadata": {
        "ExecuteTime": {
          "end_time": "2022-08-18T06:41:52.721973Z",
          "start_time": "2022-08-18T06:41:52.715490Z"
        },
        "id": "7979cb5d",
        "outputId": "591f5e9e-bf47-432d-f948-391ceba97472"
      },
      "outputs": [
        {
          "data": {
            "text/plain": [
              "Prediction(uid=1, iid=1029, r_ui=None, est=2.8814455446761933, details={'was_impossible': False})"
            ]
          },
          "execution_count": 24,
          "metadata": {},
          "output_type": "execute_result"
        }
      ],
      "source": [
        "svd.predict(1, 1029, 3)  # UserId - 1인 사람이  movie Id = 1029  인 영화에 대해서 실제 평가 3점일 때, 예측 평가 점수?"
      ]
    },
    {
      "cell_type": "code",
      "execution_count": null,
      "id": "9859d4e8",
      "metadata": {
        "ExecuteTime": {
          "end_time": "2022-08-18T06:42:53.697875Z",
          "start_time": "2022-08-18T06:42:53.685191Z"
        },
        "id": "9859d4e8",
        "outputId": "b7587e57-2901-4b7b-8490-b5d1093810ac"
      },
      "outputs": [
        {
          "data": {
            "text/html": [
              "<div>\n",
              "<style scoped>\n",
              "    .dataframe tbody tr th:only-of-type {\n",
              "        vertical-align: middle;\n",
              "    }\n",
              "\n",
              "    .dataframe tbody tr th {\n",
              "        vertical-align: top;\n",
              "    }\n",
              "\n",
              "    .dataframe thead th {\n",
              "        text-align: right;\n",
              "    }\n",
              "</style>\n",
              "<table border=\"1\" class=\"dataframe\">\n",
              "  <thead>\n",
              "    <tr style=\"text-align: right;\">\n",
              "      <th></th>\n",
              "      <th>userId</th>\n",
              "      <th>movieId</th>\n",
              "      <th>rating</th>\n",
              "      <th>timestamp</th>\n",
              "    </tr>\n",
              "  </thead>\n",
              "  <tbody>\n",
              "    <tr>\n",
              "      <th>15273</th>\n",
              "      <td>100</td>\n",
              "      <td>1</td>\n",
              "      <td>4.0</td>\n",
              "      <td>854193977</td>\n",
              "    </tr>\n",
              "    <tr>\n",
              "      <th>15274</th>\n",
              "      <td>100</td>\n",
              "      <td>3</td>\n",
              "      <td>4.0</td>\n",
              "      <td>854194024</td>\n",
              "    </tr>\n",
              "    <tr>\n",
              "      <th>15275</th>\n",
              "      <td>100</td>\n",
              "      <td>6</td>\n",
              "      <td>3.0</td>\n",
              "      <td>854194023</td>\n",
              "    </tr>\n",
              "    <tr>\n",
              "      <th>15276</th>\n",
              "      <td>100</td>\n",
              "      <td>7</td>\n",
              "      <td>3.0</td>\n",
              "      <td>854194024</td>\n",
              "    </tr>\n",
              "    <tr>\n",
              "      <th>15277</th>\n",
              "      <td>100</td>\n",
              "      <td>25</td>\n",
              "      <td>4.0</td>\n",
              "      <td>854193977</td>\n",
              "    </tr>\n",
              "    <tr>\n",
              "      <th>15278</th>\n",
              "      <td>100</td>\n",
              "      <td>32</td>\n",
              "      <td>5.0</td>\n",
              "      <td>854193977</td>\n",
              "    </tr>\n",
              "    <tr>\n",
              "      <th>15279</th>\n",
              "      <td>100</td>\n",
              "      <td>52</td>\n",
              "      <td>3.0</td>\n",
              "      <td>854194056</td>\n",
              "    </tr>\n",
              "    <tr>\n",
              "      <th>15280</th>\n",
              "      <td>100</td>\n",
              "      <td>62</td>\n",
              "      <td>3.0</td>\n",
              "      <td>854193977</td>\n",
              "    </tr>\n",
              "    <tr>\n",
              "      <th>15281</th>\n",
              "      <td>100</td>\n",
              "      <td>86</td>\n",
              "      <td>3.0</td>\n",
              "      <td>854194208</td>\n",
              "    </tr>\n",
              "    <tr>\n",
              "      <th>15282</th>\n",
              "      <td>100</td>\n",
              "      <td>88</td>\n",
              "      <td>2.0</td>\n",
              "      <td>854194208</td>\n",
              "    </tr>\n",
              "    <tr>\n",
              "      <th>15283</th>\n",
              "      <td>100</td>\n",
              "      <td>95</td>\n",
              "      <td>3.0</td>\n",
              "      <td>854193977</td>\n",
              "    </tr>\n",
              "    <tr>\n",
              "      <th>15284</th>\n",
              "      <td>100</td>\n",
              "      <td>135</td>\n",
              "      <td>3.0</td>\n",
              "      <td>854194086</td>\n",
              "    </tr>\n",
              "    <tr>\n",
              "      <th>15285</th>\n",
              "      <td>100</td>\n",
              "      <td>141</td>\n",
              "      <td>3.0</td>\n",
              "      <td>854193977</td>\n",
              "    </tr>\n",
              "    <tr>\n",
              "      <th>15286</th>\n",
              "      <td>100</td>\n",
              "      <td>608</td>\n",
              "      <td>4.0</td>\n",
              "      <td>854194024</td>\n",
              "    </tr>\n",
              "    <tr>\n",
              "      <th>15287</th>\n",
              "      <td>100</td>\n",
              "      <td>648</td>\n",
              "      <td>3.0</td>\n",
              "      <td>854193977</td>\n",
              "    </tr>\n",
              "    <tr>\n",
              "      <th>15288</th>\n",
              "      <td>100</td>\n",
              "      <td>661</td>\n",
              "      <td>3.0</td>\n",
              "      <td>854194086</td>\n",
              "    </tr>\n",
              "    <tr>\n",
              "      <th>15289</th>\n",
              "      <td>100</td>\n",
              "      <td>708</td>\n",
              "      <td>3.0</td>\n",
              "      <td>854194056</td>\n",
              "    </tr>\n",
              "    <tr>\n",
              "      <th>15290</th>\n",
              "      <td>100</td>\n",
              "      <td>733</td>\n",
              "      <td>3.0</td>\n",
              "      <td>854194024</td>\n",
              "    </tr>\n",
              "    <tr>\n",
              "      <th>15291</th>\n",
              "      <td>100</td>\n",
              "      <td>736</td>\n",
              "      <td>3.0</td>\n",
              "      <td>854193977</td>\n",
              "    </tr>\n",
              "    <tr>\n",
              "      <th>15292</th>\n",
              "      <td>100</td>\n",
              "      <td>745</td>\n",
              "      <td>4.0</td>\n",
              "      <td>854194208</td>\n",
              "    </tr>\n",
              "    <tr>\n",
              "      <th>15293</th>\n",
              "      <td>100</td>\n",
              "      <td>780</td>\n",
              "      <td>3.0</td>\n",
              "      <td>854193977</td>\n",
              "    </tr>\n",
              "    <tr>\n",
              "      <th>15294</th>\n",
              "      <td>100</td>\n",
              "      <td>786</td>\n",
              "      <td>3.0</td>\n",
              "      <td>854194056</td>\n",
              "    </tr>\n",
              "    <tr>\n",
              "      <th>15295</th>\n",
              "      <td>100</td>\n",
              "      <td>802</td>\n",
              "      <td>4.0</td>\n",
              "      <td>854194111</td>\n",
              "    </tr>\n",
              "    <tr>\n",
              "      <th>15296</th>\n",
              "      <td>100</td>\n",
              "      <td>1073</td>\n",
              "      <td>5.0</td>\n",
              "      <td>854194056</td>\n",
              "    </tr>\n",
              "    <tr>\n",
              "      <th>15297</th>\n",
              "      <td>100</td>\n",
              "      <td>1356</td>\n",
              "      <td>4.0</td>\n",
              "      <td>854194086</td>\n",
              "    </tr>\n",
              "  </tbody>\n",
              "</table>\n",
              "</div>"
            ],
            "text/plain": [
              "       userId  movieId  rating  timestamp\n",
              "15273     100        1     4.0  854193977\n",
              "15274     100        3     4.0  854194024\n",
              "15275     100        6     3.0  854194023\n",
              "15276     100        7     3.0  854194024\n",
              "15277     100       25     4.0  854193977\n",
              "15278     100       32     5.0  854193977\n",
              "15279     100       52     3.0  854194056\n",
              "15280     100       62     3.0  854193977\n",
              "15281     100       86     3.0  854194208\n",
              "15282     100       88     2.0  854194208\n",
              "15283     100       95     3.0  854193977\n",
              "15284     100      135     3.0  854194086\n",
              "15285     100      141     3.0  854193977\n",
              "15286     100      608     4.0  854194024\n",
              "15287     100      648     3.0  854193977\n",
              "15288     100      661     3.0  854194086\n",
              "15289     100      708     3.0  854194056\n",
              "15290     100      733     3.0  854194024\n",
              "15291     100      736     3.0  854193977\n",
              "15292     100      745     4.0  854194208\n",
              "15293     100      780     3.0  854193977\n",
              "15294     100      786     3.0  854194056\n",
              "15295     100      802     4.0  854194111\n",
              "15296     100     1073     5.0  854194056\n",
              "15297     100     1356     4.0  854194086"
            ]
          },
          "execution_count": 25,
          "metadata": {},
          "output_type": "execute_result"
        }
      ],
      "source": [
        "ratings[ratings[\"userId\"] == 100]"
      ]
    },
    {
      "cell_type": "code",
      "execution_count": null,
      "id": "1e5efad2",
      "metadata": {
        "ExecuteTime": {
          "end_time": "2022-08-18T06:43:33.998863Z",
          "start_time": "2022-08-18T06:43:33.986927Z"
        },
        "id": "1e5efad2",
        "outputId": "4791a289-507d-47f8-8ada-6f5912bb09d0"
      },
      "outputs": [
        {
          "data": {
            "text/plain": [
              "Prediction(uid=100, iid=1029, r_ui=None, est=3.7705476478414846, details={'was_impossible': False})"
            ]
          },
          "execution_count": 26,
          "metadata": {},
          "output_type": "execute_result"
        }
      ],
      "source": [
        "svd.predict(100, 1029)  #User Id = 100, Movie Id = 1029"
      ]
    }
  ],
  "metadata": {
    "kernelspec": {
      "display_name": "Python 3 (ipykernel)",
      "language": "python",
      "name": "python3"
    },
    "language_info": {
      "codemirror_mode": {
        "name": "ipython",
        "version": 3
      },
      "file_extension": ".py",
      "mimetype": "text/x-python",
      "name": "python",
      "nbconvert_exporter": "python",
      "pygments_lexer": "ipython3",
      "version": "3.9.12"
    },
    "colab": {
      "name": "영화 추천 시스템 - 협업 필터링.ipynb",
      "provenance": [],
      "include_colab_link": true
    }
  },
  "nbformat": 4,
  "nbformat_minor": 5
}